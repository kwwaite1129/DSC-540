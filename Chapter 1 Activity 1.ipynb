{
 "cells": [
  {
   "cell_type": "code",
   "execution_count": 38,
   "metadata": {},
   "outputs": [],
   "source": [
    "import random\n",
    "list_1 = [random.randint(0, 100) for x in range (0,100)]\n",
    "list_2 = [x for x in list_1 if x % 3 == 0]\n",
    "list_1_len = len(list_1)\n",
    "list_2_len = len(list_2)"
   ]
  },
  {
   "cell_type": "code",
   "execution_count": 39,
   "metadata": {
    "scrolled": true
   },
   "outputs": [
    {
     "data": {
      "text/plain": [
       "[53,\n",
       " 58,\n",
       " 100,\n",
       " 78,\n",
       " 58,\n",
       " 31,\n",
       " 14,\n",
       " 50,\n",
       " 20,\n",
       " 90,\n",
       " 84,\n",
       " 45,\n",
       " 9,\n",
       " 79,\n",
       " 60,\n",
       " 84,\n",
       " 84,\n",
       " 75,\n",
       " 93,\n",
       " 33,\n",
       " 80,\n",
       " 44,\n",
       " 61,\n",
       " 42,\n",
       " 13,\n",
       " 92,\n",
       " 37,\n",
       " 39,\n",
       " 22,\n",
       " 83,\n",
       " 38,\n",
       " 44,\n",
       " 70,\n",
       " 36,\n",
       " 67,\n",
       " 38,\n",
       " 7,\n",
       " 63,\n",
       " 58,\n",
       " 14,\n",
       " 80,\n",
       " 54,\n",
       " 15,\n",
       " 66,\n",
       " 89,\n",
       " 16,\n",
       " 19,\n",
       " 66,\n",
       " 8,\n",
       " 69,\n",
       " 44,\n",
       " 85,\n",
       " 100,\n",
       " 61,\n",
       " 84,\n",
       " 23,\n",
       " 45,\n",
       " 14,\n",
       " 21,\n",
       " 1,\n",
       " 52,\n",
       " 52,\n",
       " 10,\n",
       " 61,\n",
       " 12,\n",
       " 5,\n",
       " 25,\n",
       " 60,\n",
       " 99,\n",
       " 80,\n",
       " 12,\n",
       " 15,\n",
       " 38,\n",
       " 73,\n",
       " 21,\n",
       " 60,\n",
       " 11,\n",
       " 18,\n",
       " 82,\n",
       " 65,\n",
       " 55,\n",
       " 87,\n",
       " 55,\n",
       " 94,\n",
       " 46,\n",
       " 8,\n",
       " 51,\n",
       " 86,\n",
       " 78,\n",
       " 50,\n",
       " 24,\n",
       " 42,\n",
       " 87,\n",
       " 8,\n",
       " 14,\n",
       " 60,\n",
       " 88,\n",
       " 35,\n",
       " 77,\n",
       " 78]"
      ]
     },
     "execution_count": 39,
     "metadata": {},
     "output_type": "execute_result"
    }
   ],
   "source": [
    "list_1"
   ]
  },
  {
   "cell_type": "code",
   "execution_count": 40,
   "metadata": {
    "scrolled": true
   },
   "outputs": [
    {
     "data": {
      "text/plain": [
       "[78,\n",
       " 90,\n",
       " 84,\n",
       " 45,\n",
       " 9,\n",
       " 60,\n",
       " 84,\n",
       " 84,\n",
       " 75,\n",
       " 93,\n",
       " 33,\n",
       " 42,\n",
       " 39,\n",
       " 36,\n",
       " 63,\n",
       " 54,\n",
       " 15,\n",
       " 66,\n",
       " 66,\n",
       " 69,\n",
       " 84,\n",
       " 45,\n",
       " 21,\n",
       " 12,\n",
       " 60,\n",
       " 99,\n",
       " 12,\n",
       " 15,\n",
       " 21,\n",
       " 60,\n",
       " 18,\n",
       " 87,\n",
       " 51,\n",
       " 78,\n",
       " 24,\n",
       " 42,\n",
       " 87,\n",
       " 60,\n",
       " 78]"
      ]
     },
     "execution_count": 40,
     "metadata": {},
     "output_type": "execute_result"
    }
   ],
   "source": [
    "list_2"
   ]
  },
  {
   "cell_type": "code",
   "execution_count": 42,
   "metadata": {},
   "outputs": [
    {
     "data": {
      "text/plain": [
       "61"
      ]
     },
     "execution_count": 42,
     "metadata": {},
     "output_type": "execute_result"
    }
   ],
   "source": [
    "diff = list_1_len - list_2_len\n",
    "diff"
   ]
  },
  {
   "cell_type": "code",
   "execution_count": 49,
   "metadata": {},
   "outputs": [
    {
     "name": "stdout",
     "output_type": "stream",
     "text": [
      "[61, 66, 65]\n",
      "The mean of the three lists is 64\n"
     ]
    }
   ],
   "source": [
    "difference_list = []\n",
    "for i in range(0,3):\n",
    "    list_3 = [random.randint(0, 100) for x in range (0,100)]\n",
    "    list_4 = [x for x in list_3 if x % 3 == 0]\n",
    "    list_3_len = len(list_3)\n",
    "    list_4_len = len(list_4)\n",
    "    difference = list_3_len - list_4_len\n",
    "    difference_list.append(difference)\n",
    "print(difference_list)\n",
    "diff_mean = sum(difference_list) / float(len(difference_list))\n",
    "print(\"The mean of the three lists is \" + str(round(diff_mean)))"
   ]
  },
  {
   "cell_type": "code",
   "execution_count": null,
   "metadata": {},
   "outputs": [],
   "source": []
  }
 ],
 "metadata": {
  "kernelspec": {
   "display_name": "Python 3",
   "language": "python",
   "name": "python3"
  },
  "language_info": {
   "codemirror_mode": {
    "name": "ipython",
    "version": 3
   },
   "file_extension": ".py",
   "mimetype": "text/x-python",
   "name": "python",
   "nbconvert_exporter": "python",
   "pygments_lexer": "ipython3",
   "version": "3.6.6"
  }
 },
 "nbformat": 4,
 "nbformat_minor": 2
}
